{
 "cells": [
  {
   "cell_type": "markdown",
   "metadata": {},
   "source": [
    "Setup"
   ]
  },
  {
   "cell_type": "code",
   "execution_count": 4,
   "metadata": {},
   "outputs": [],
   "source": [
    "import requests\n",
    "\n",
    "SESSION_ID = open(\"session.txt\").read() #Get session cookie from logging into the AoC site\n",
    "\n",
    "def get_input(day):\n",
    "    # Set up request params\n",
    "    cookies={\"session\":SESSION_ID}\n",
    "    url = f\"https://adventofcode.com/2024/day/{day}/input\"\n",
    "\n",
    "    #Read inputs and split into lines\n",
    "    resp = requests.get(url,cookies=cookies)\n",
    "    lines = resp.text.split('\\n')[:-1]\n",
    "    return lines\n",
    "\n",
    "def result(result,day,part):\n",
    "    print(f\"The result for Day {day}, Puzzle {part} is:\",result)"
   ]
  },
  {
   "cell_type": "markdown",
   "metadata": {},
   "source": [
    "Day 1"
   ]
  },
  {
   "cell_type": "code",
   "execution_count": 5,
   "metadata": {},
   "outputs": [
    {
     "name": "stdout",
     "output_type": "stream",
     "text": [
      "The result for Day 1, Puzzle 1 is: 1834060\n",
      "The result for Day 1, Puzzle 2 is: 21607792\n"
     ]
    }
   ],
   "source": [
    "\"\"\"\n",
    "Part 1\n",
    "\"\"\"\n",
    "day = 1\n",
    "part = 1\n",
    "input = get_input(day)\n",
    "\n",
    "#split into the two lists\n",
    "list1 = []\n",
    "list2 = []\n",
    "for line in input:\n",
    "    if len(line.split()): #filter out empty lines\n",
    "        val1,val2 = line.split()\n",
    "        list1.append(int(val1))\n",
    "        list2.append(int(val2))\n",
    "\n",
    "#sort the lists\n",
    "list1.sort()\n",
    "list2.sort()\n",
    "\n",
    "#sum the difference between the pairs starting from lowest numbers in each list and working up\n",
    "diff = 0\n",
    "for i in range(len(list1)):\n",
    "    diff += abs(list1[i]-list2[i])\n",
    "\n",
    "result(diff,day,part)\n",
    "\n",
    "\"\"\"\n",
    "Part 2\n",
    "\"\"\"\n",
    "part = 2\n",
    "\n",
    "#set up similarity score sum and checked_ids\n",
    "sim_score = 0\n",
    "checked_ids = {}\n",
    "\n",
    "#loop through each ID in list 1\n",
    "for id in list1:\n",
    "    if id not in checked_ids:\n",
    "        #count number of times id appears in list2 and pop them\n",
    "        occurrences = 0\n",
    "        if id in list2:\n",
    "            id_at = list2.index(id)\n",
    "            while id in list2:\n",
    "                occurrences += 1\n",
    "                list2.pop(id_at)\n",
    "        #calculate sim_add and record in checked_ids\n",
    "        sim_add = id*occurrences\n",
    "        checked_ids[id] = sim_add\n",
    "    #if already checked, use recorded simularity_add\n",
    "    else:\n",
    "        sim_add = checked_ids[id]\n",
    "    #sum all the simularity adds for the total score\n",
    "    sim_score += sim_add\n",
    "\n",
    "result(sim_score,day,part)"
   ]
  },
  {
   "cell_type": "markdown",
   "metadata": {},
   "source": [
    "Day 2"
   ]
  },
  {
   "cell_type": "code",
   "execution_count": 6,
   "metadata": {},
   "outputs": [
    {
     "name": "stdout",
     "output_type": "stream",
     "text": [
      "The result for Day 2, Puzzle 1 is: 282\n",
      "The result for Day 2, Puzzle 2 is: 349\n"
     ]
    }
   ],
   "source": [
    "\"\"\"\n",
    "Part 1\n",
    "\"\"\"\n",
    "day = 2\n",
    "part = 1\n",
    "input = get_input(day)\n",
    "\n",
    "#check the safety of a given report using the constraints provided\n",
    "def check_safety(report):\n",
    "    if sorted(report) == report or sorted(report) == report[::-1]:\n",
    "        gaps = [abs(report[i]-report[i-1]) for i in range(1,len(report))]\n",
    "        if min(gaps) >= 1 and max(gaps) <= 3:\n",
    "            return True\n",
    "        else:\n",
    "            return False\n",
    "\n",
    "#loop through each report in the input and count how many are 'safe'\n",
    "safe_report_count = 0\n",
    "for line in input:\n",
    "    report = [int(level) for level in line.split()]\n",
    "    if check_safety(report):\n",
    "        safe_report_count += 1\n",
    "\n",
    "result(safe_report_count,day,part)\n",
    "\n",
    "\"\"\"\n",
    "Part 2\n",
    "\"\"\"\n",
    "part = 2\n",
    "\n",
    "#repeat, but this time retry the safety check if it doesn't pass\n",
    "safe_report_count = 0\n",
    "for line in input:\n",
    "    report = [int(level) for level in line.split()]\n",
    "    if check_safety(report):\n",
    "        safe_report_count += 1\n",
    "    else:\n",
    "        #iteratively check 'dampened_reports' by skipping each level until it works or the report is exhausted\n",
    "        i=1\n",
    "        while i <= len(report):\n",
    "            dampened_report = report[:i-1] + report[i:]\n",
    "            i += 1\n",
    "            if check_safety(dampened_report):\n",
    "                safe_report_count += 1\n",
    "                break\n",
    "\n",
    "result(safe_report_count,day,part)"
   ]
  },
  {
   "cell_type": "code",
   "execution_count": 118,
   "metadata": {},
   "outputs": [
    {
     "data": {
      "text/plain": [
       "[1, 2, 3, 4]"
      ]
     },
     "execution_count": 118,
     "metadata": {},
     "output_type": "execute_result"
    }
   ],
   "source": [
    "ls = [1,2,3,4,67]\n",
    "ls[:4]+ls[5:]"
   ]
  },
  {
   "cell_type": "code",
   "execution_count": null,
   "metadata": {},
   "outputs": [],
   "source": []
  }
 ],
 "metadata": {
  "kernelspec": {
   "display_name": "base",
   "language": "python",
   "name": "python3"
  },
  "language_info": {
   "codemirror_mode": {
    "name": "ipython",
    "version": 3
   },
   "file_extension": ".py",
   "mimetype": "text/x-python",
   "name": "python",
   "nbconvert_exporter": "python",
   "pygments_lexer": "ipython3",
   "version": "3.8.3"
  }
 },
 "nbformat": 4,
 "nbformat_minor": 2
}
