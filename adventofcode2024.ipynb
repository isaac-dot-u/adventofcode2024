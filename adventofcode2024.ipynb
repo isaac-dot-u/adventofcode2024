{
 "cells": [
  {
   "cell_type": "markdown",
   "metadata": {},
   "source": [
    "Setup"
   ]
  },
  {
   "cell_type": "code",
   "execution_count": 78,
   "metadata": {},
   "outputs": [],
   "source": [
    "import requests\n",
    "\n",
    "SESSION_ID = open(\"session.txt\").read() #Get session cookie from logging into the AoC site\n",
    "\n",
    "def get_input(day):\n",
    "    # Set up request params\n",
    "    cookies={\"session\":SESSION_ID}\n",
    "    url = f\"https://adventofcode.com/2024/day/{day}/input\"\n",
    "\n",
    "    #Read inputs and split into lines\n",
    "    resp = requests.get(url,cookies=cookies)\n",
    "    lines = resp.text.split('\\n')\n",
    "    return lines\n",
    "\n",
    "def result(result,day,part):\n",
    "    print(f\"The result for Day {day}, Puzzle {part} is:\",result)"
   ]
  },
  {
   "cell_type": "markdown",
   "metadata": {},
   "source": [
    "Day 1"
   ]
  },
  {
   "cell_type": "code",
   "execution_count": 79,
   "metadata": {},
   "outputs": [
    {
     "name": "stdout",
     "output_type": "stream",
     "text": [
      "The result for Day 1, Puzzle 1 is: 1834060\n",
      "The result for Day 1, Puzzle 2 is: 21607792\n"
     ]
    }
   ],
   "source": [
    "\"\"\"\n",
    "Part 1\n",
    "\"\"\"\n",
    "day = 1\n",
    "part = 1\n",
    "input = get_input(day)\n",
    "\n",
    "#split into the two lists\n",
    "list1 = []\n",
    "list2 = []\n",
    "for line in input:\n",
    "    if len(line.split()): #filter out empty lines\n",
    "        val1,val2 = line.split()\n",
    "        list1.append(int(val1))\n",
    "        list2.append(int(val2))\n",
    "\n",
    "#sort the lists\n",
    "list1.sort()\n",
    "list2.sort()\n",
    "\n",
    "#sum the difference between the pairs starting from lowest numbers in each list and working up\n",
    "diff = 0\n",
    "for i in range(len(list1)):\n",
    "    diff += abs(list1[i]-list2[i])\n",
    "\n",
    "result(diff,day,part)\n",
    "\n",
    "\"\"\"\n",
    "Part 2\n",
    "\"\"\"\n",
    "part = 2\n",
    "\n",
    "#set up similarity score sum and checked_ids\n",
    "sim_score = 0\n",
    "checked_ids = {}\n",
    "\n",
    "#loop through each ID in list 1\n",
    "for id in list1:\n",
    "    if id not in checked_ids:\n",
    "        #count number of times id appears in list2 and pop them\n",
    "        occurrences = 0\n",
    "        if id in list2:\n",
    "            id_at = list2.index(id)\n",
    "            while id in list2:\n",
    "                occurrences += 1\n",
    "                list2.pop(id_at)\n",
    "        #calculate sim_add and record in checked_ids\n",
    "        sim_add = id*occurrences\n",
    "        checked_ids[id] = sim_add\n",
    "    #if already checked, use recorded simularity_add\n",
    "    else:\n",
    "        sim_add = checked_ids[id]\n",
    "    #sum all the simularity adds for the total score\n",
    "    sim_score += sim_add\n",
    "\n",
    "result(sim_score,day,part)"
   ]
  },
  {
   "cell_type": "code",
   "execution_count": null,
   "metadata": {},
   "outputs": [],
   "source": []
  }
 ],
 "metadata": {
  "kernelspec": {
   "display_name": "base",
   "language": "python",
   "name": "python3"
  },
  "language_info": {
   "codemirror_mode": {
    "name": "ipython",
    "version": 3
   },
   "file_extension": ".py",
   "mimetype": "text/x-python",
   "name": "python",
   "nbconvert_exporter": "python",
   "pygments_lexer": "ipython3",
   "version": "3.8.3"
  }
 },
 "nbformat": 4,
 "nbformat_minor": 2
}
